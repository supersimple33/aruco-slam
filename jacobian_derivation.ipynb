{
 "cells": [
  {
   "cell_type": "code",
   "execution_count": 15,
   "metadata": {},
   "outputs": [
    {
     "data": {
      "text/latex": [
       "$\\displaystyle \\left[\\begin{matrix}x^{m}_{l} \\cos{\\left(\\theta^{m}_{r} \\right)} - x^{m}_{r} \\cos{\\left(\\theta^{m}_{r} \\right)} + y^{m}_{l} \\sin{\\left(\\theta^{m}_{r} \\right)} - y^{m}_{r} \\sin{\\left(\\theta^{m}_{r} \\right)}\\\\- x^{m}_{l} \\sin{\\left(\\theta^{m}_{r} \\right)} + x^{m}_{r} \\sin{\\left(\\theta^{m}_{r} \\right)} + y^{m}_{l} \\cos{\\left(\\theta^{m}_{r} \\right)} - y^{m}_{r} \\cos{\\left(\\theta^{m}_{r} \\right)}\\\\\\theta^{m}_{l} - \\theta^{m}_{r}\\end{matrix}\\right]$"
      ],
      "text/plain": [
       "⎡x_l__m⋅cos(θ_r__m) - x_r__m⋅cos(θ_r__m) + y_l__m⋅sin(θ_r__m) - y_r__m⋅sin(θ_r__m) ⎤\n",
       "⎢                                                                                  ⎥\n",
       "⎢-x_l__m⋅sin(θ_r__m) + x_r__m⋅sin(θ_r__m) + y_l__m⋅cos(θ_r__m) - y_r__m⋅cos(θ_r__m)⎥\n",
       "⎢                                                                                  ⎥\n",
       "⎣                                 θ_l__m - θ_r__m                                  ⎦"
      ]
     },
     "execution_count": 15,
     "metadata": {},
     "output_type": "execute_result"
    }
   ],
   "source": [
    "import sympy as sp\n",
    "sp.init_printing(use_latex=True, wrap_line=False)\n",
    "\n",
    "# Define the variables\n",
    "mxr, myr, mxl, myl, mtheta_r, mtheta_l = sp.symbols('x_r^m y_r^m x_l^m y_l^m theta_r^m theta_l^m')\n",
    "\n",
    "forward = -1\n",
    "r_R_m = sp.Matrix([[sp.cos(forward*mtheta_r), -sp.sin(forward*mtheta_r), 0],\n",
    "                   [sp.sin(forward*mtheta_r), sp.cos(forward*mtheta_r), 0],\n",
    "                   [0, 0, 1]])\n",
    "\n",
    "m_X_r = sp.Matrix([mxr, myr, mtheta_r])\n",
    "m_X_l = sp.Matrix([mxl, myl, mtheta_l])\n",
    "\n",
    "sub =  m_X_l - m_X_r\n",
    "\n",
    "function = r_R_m @ sub\n",
    "function.expand()"
   ]
  },
  {
   "cell_type": "code",
   "execution_count": 16,
   "metadata": {},
   "outputs": [
    {
     "data": {
      "text/latex": [
       "$\\displaystyle \\left[\\begin{matrix}- \\cos{\\left(\\theta^{m}_{r} \\right)} & - \\sin{\\left(\\theta^{m}_{r} \\right)} & - x^{m}_{l} \\sin{\\left(\\theta^{m}_{r} \\right)} + x^{m}_{r} \\sin{\\left(\\theta^{m}_{r} \\right)} + y^{m}_{l} \\cos{\\left(\\theta^{m}_{r} \\right)} - y^{m}_{r} \\cos{\\left(\\theta^{m}_{r} \\right)} & \\cos{\\left(\\theta^{m}_{r} \\right)} & \\sin{\\left(\\theta^{m}_{r} \\right)} & 0\\\\\\sin{\\left(\\theta^{m}_{r} \\right)} & - \\cos{\\left(\\theta^{m}_{r} \\right)} & - x^{m}_{l} \\cos{\\left(\\theta^{m}_{r} \\right)} + x^{m}_{r} \\cos{\\left(\\theta^{m}_{r} \\right)} - y^{m}_{l} \\sin{\\left(\\theta^{m}_{r} \\right)} + y^{m}_{r} \\sin{\\left(\\theta^{m}_{r} \\right)} & - \\sin{\\left(\\theta^{m}_{r} \\right)} & \\cos{\\left(\\theta^{m}_{r} \\right)} & 0\\\\0 & 0 & -1 & 0 & 0 & 1\\end{matrix}\\right]$"
      ],
      "text/plain": [
       "⎡-cos(θ_r__m)  -sin(θ_r__m)  -x_l__m⋅sin(θ_r__m) + x_r__m⋅sin(θ_r__m) + y_l__m⋅cos(θ_r__m) - y_r__m⋅cos(θ_r__m)  cos(θ_r__m)   sin(θ_r__m)  0⎤\n",
       "⎢                                                                                                                                            ⎥\n",
       "⎢sin(θ_r__m)   -cos(θ_r__m)  -x_l__m⋅cos(θ_r__m) + x_r__m⋅cos(θ_r__m) - y_l__m⋅sin(θ_r__m) + y_r__m⋅sin(θ_r__m)  -sin(θ_r__m)  cos(θ_r__m)  0⎥\n",
       "⎢                                                                                                                                            ⎥\n",
       "⎣     0             0                                                -1                                               0             0       1⎦"
      ]
     },
     "execution_count": 16,
     "metadata": {},
     "output_type": "execute_result"
    }
   ],
   "source": [
    "\n",
    "variables = sp.Matrix([mxr, myr, mtheta_r, mxl, myl, mtheta_l])\n",
    "\n",
    "# Compute the Jacobian\n",
    "jacobian = function.jacobian(variables)\n",
    "jacobian.expand()"
   ]
  },
  {
   "cell_type": "code",
   "execution_count": 17,
   "metadata": {},
   "outputs": [],
   "source": [
    "# Define the translation variables\n",
    "m_x_r, m_y_r, m_z_r = sp.symbols('x_r^m y_r^m z_r^m')\n",
    "m_x_l, m_y_l, m_z_l = sp.symbols('x_l^m y_l^m z_l^m')\n",
    "\n",
    "# Define the rotation variables\n",
    "m_phi_r, m_theta_r, m_psi_r = sp.symbols('phi_r^m theta_r^m psi_r^m')\n",
    "m_phi_l, m_theta_l, m_psi_l = sp.symbols('phi_l^m theta_l^m psi_l^m')\n",
    "\n",
    "r_R_m_x = sp.Matrix([\n",
    "    [1, 0, 0],\n",
    "    [0, sp.cos(forward*m_phi_r), -sp.sin(forward*m_phi_r)],\n",
    "    [0, sp.sin(forward*m_phi_r), sp.cos(forward*m_phi_r)]\n",
    "])\n",
    "\n",
    "r_R_m_y = sp.Matrix([\n",
    "    [sp.cos(forward*m_theta_r), 0, sp.sin(forward*m_theta_r)],\n",
    "    [0, 1, 0],\n",
    "    [-sp.sin(forward*m_theta_r), 0, sp.cos(forward*m_theta_r)]\n",
    "])\n",
    "\n",
    "r_R_m_z = sp.Matrix([\n",
    "    [sp.cos(forward*m_psi_r), -sp.sin(forward*m_psi_r), 0],\n",
    "    [sp.sin(forward*m_psi_r), sp.cos(forward*m_psi_r), 0],\n",
    "    [0, 0, 1]\n",
    "])\n",
    "\n",
    "r_R_m = r_R_m_x @ r_R_m_y @ r_R_m_z\n",
    "\n",
    "# convert to 6x6 matrix\n",
    "m_R_r_e = r_R_m.row_join(sp.Matrix([[0, 0, 0], [0, 0, 0], [0, 0, 0]]))\n",
    "m_R_r_e = m_R_r_e.col_join(sp.Matrix([[0, 0, 0, 1, 0, 0,]]))\n",
    "m_R_r_e = m_R_r_e.col_join(sp.Matrix([[0, 0, 0, 0, 1, 0,]]))\n",
    "m_R_r_e = m_R_r_e.col_join(sp.Matrix([[0, 0, 0, 0, 0, 1,]]))\n",
    "\n",
    "m_X_r = sp.Matrix([m_x_r, m_y_r, m_z_r, m_phi_r, m_theta_r, m_psi_r])\n",
    "m_X_l = sp.Matrix([m_x_l, m_y_l, m_z_l, m_phi_l, m_theta_l, m_psi_l])\n",
    "\n",
    "sub =  m_X_l - m_X_r\n",
    "function = m_R_r_e * sub"
   ]
  },
  {
   "cell_type": "code",
   "execution_count": 18,
   "metadata": {},
   "outputs": [
    {
     "data": {
      "text/latex": [
       "$\\displaystyle \\left[\\begin{array}{cccccccccccc}- \\cos{\\left(\\psi^{m}_{r} \\right)} \\cos{\\left(\\theta^{m}_{r} \\right)} & - \\sin{\\left(\\psi^{m}_{r} \\right)} \\cos{\\left(\\theta^{m}_{r} \\right)} & \\sin{\\left(\\theta^{m}_{r} \\right)} & 0 & - \\left(x^{m}_{l} - x^{m}_{r}\\right) \\sin{\\left(\\theta^{m}_{r} \\right)} \\cos{\\left(\\psi^{m}_{r} \\right)} - \\left(y^{m}_{l} - y^{m}_{r}\\right) \\sin{\\left(\\psi^{m}_{r} \\right)} \\sin{\\left(\\theta^{m}_{r} \\right)} - \\left(z^{m}_{l} - z^{m}_{r}\\right) \\cos{\\left(\\theta^{m}_{r} \\right)} & - \\left(x^{m}_{l} - x^{m}_{r}\\right) \\sin{\\left(\\psi^{m}_{r} \\right)} \\cos{\\left(\\theta^{m}_{r} \\right)} + \\left(y^{m}_{l} - y^{m}_{r}\\right) \\cos{\\left(\\psi^{m}_{r} \\right)} \\cos{\\left(\\theta^{m}_{r} \\right)} & \\cos{\\left(\\psi^{m}_{r} \\right)} \\cos{\\left(\\theta^{m}_{r} \\right)} & \\sin{\\left(\\psi^{m}_{r} \\right)} \\cos{\\left(\\theta^{m}_{r} \\right)} & - \\sin{\\left(\\theta^{m}_{r} \\right)} & 0 & 0 & 0\\\\- \\sin{\\left(\\phi^{m}_{r} \\right)} \\sin{\\left(\\theta^{m}_{r} \\right)} \\cos{\\left(\\psi^{m}_{r} \\right)} + \\sin{\\left(\\psi^{m}_{r} \\right)} \\cos{\\left(\\phi^{m}_{r} \\right)} & - \\sin{\\left(\\phi^{m}_{r} \\right)} \\sin{\\left(\\psi^{m}_{r} \\right)} \\sin{\\left(\\theta^{m}_{r} \\right)} - \\cos{\\left(\\phi^{m}_{r} \\right)} \\cos{\\left(\\psi^{m}_{r} \\right)} & - \\sin{\\left(\\phi^{m}_{r} \\right)} \\cos{\\left(\\theta^{m}_{r} \\right)} & \\left(x^{m}_{l} - x^{m}_{r}\\right) \\left(\\sin{\\left(\\phi^{m}_{r} \\right)} \\sin{\\left(\\psi^{m}_{r} \\right)} + \\sin{\\left(\\theta^{m}_{r} \\right)} \\cos{\\left(\\phi^{m}_{r} \\right)} \\cos{\\left(\\psi^{m}_{r} \\right)}\\right) + \\left(y^{m}_{l} - y^{m}_{r}\\right) \\left(- \\sin{\\left(\\phi^{m}_{r} \\right)} \\cos{\\left(\\psi^{m}_{r} \\right)} + \\sin{\\left(\\psi^{m}_{r} \\right)} \\sin{\\left(\\theta^{m}_{r} \\right)} \\cos{\\left(\\phi^{m}_{r} \\right)}\\right) + \\left(z^{m}_{l} - z^{m}_{r}\\right) \\cos{\\left(\\phi^{m}_{r} \\right)} \\cos{\\left(\\theta^{m}_{r} \\right)} & \\left(x^{m}_{l} - x^{m}_{r}\\right) \\sin{\\left(\\phi^{m}_{r} \\right)} \\cos{\\left(\\psi^{m}_{r} \\right)} \\cos{\\left(\\theta^{m}_{r} \\right)} + \\left(y^{m}_{l} - y^{m}_{r}\\right) \\sin{\\left(\\phi^{m}_{r} \\right)} \\sin{\\left(\\psi^{m}_{r} \\right)} \\cos{\\left(\\theta^{m}_{r} \\right)} - \\left(z^{m}_{l} - z^{m}_{r}\\right) \\sin{\\left(\\phi^{m}_{r} \\right)} \\sin{\\left(\\theta^{m}_{r} \\right)} & \\left(x^{m}_{l} - x^{m}_{r}\\right) \\left(- \\sin{\\left(\\phi^{m}_{r} \\right)} \\sin{\\left(\\psi^{m}_{r} \\right)} \\sin{\\left(\\theta^{m}_{r} \\right)} - \\cos{\\left(\\phi^{m}_{r} \\right)} \\cos{\\left(\\psi^{m}_{r} \\right)}\\right) + \\left(y^{m}_{l} - y^{m}_{r}\\right) \\left(\\sin{\\left(\\phi^{m}_{r} \\right)} \\sin{\\left(\\theta^{m}_{r} \\right)} \\cos{\\left(\\psi^{m}_{r} \\right)} - \\sin{\\left(\\psi^{m}_{r} \\right)} \\cos{\\left(\\phi^{m}_{r} \\right)}\\right) & \\sin{\\left(\\phi^{m}_{r} \\right)} \\sin{\\left(\\theta^{m}_{r} \\right)} \\cos{\\left(\\psi^{m}_{r} \\right)} - \\sin{\\left(\\psi^{m}_{r} \\right)} \\cos{\\left(\\phi^{m}_{r} \\right)} & \\sin{\\left(\\phi^{m}_{r} \\right)} \\sin{\\left(\\psi^{m}_{r} \\right)} \\sin{\\left(\\theta^{m}_{r} \\right)} + \\cos{\\left(\\phi^{m}_{r} \\right)} \\cos{\\left(\\psi^{m}_{r} \\right)} & \\sin{\\left(\\phi^{m}_{r} \\right)} \\cos{\\left(\\theta^{m}_{r} \\right)} & 0 & 0 & 0\\\\- \\sin{\\left(\\phi^{m}_{r} \\right)} \\sin{\\left(\\psi^{m}_{r} \\right)} - \\sin{\\left(\\theta^{m}_{r} \\right)} \\cos{\\left(\\phi^{m}_{r} \\right)} \\cos{\\left(\\psi^{m}_{r} \\right)} & \\sin{\\left(\\phi^{m}_{r} \\right)} \\cos{\\left(\\psi^{m}_{r} \\right)} - \\sin{\\left(\\psi^{m}_{r} \\right)} \\sin{\\left(\\theta^{m}_{r} \\right)} \\cos{\\left(\\phi^{m}_{r} \\right)} & - \\cos{\\left(\\phi^{m}_{r} \\right)} \\cos{\\left(\\theta^{m}_{r} \\right)} & \\left(x^{m}_{l} - x^{m}_{r}\\right) \\left(- \\sin{\\left(\\phi^{m}_{r} \\right)} \\sin{\\left(\\theta^{m}_{r} \\right)} \\cos{\\left(\\psi^{m}_{r} \\right)} + \\sin{\\left(\\psi^{m}_{r} \\right)} \\cos{\\left(\\phi^{m}_{r} \\right)}\\right) + \\left(y^{m}_{l} - y^{m}_{r}\\right) \\left(- \\sin{\\left(\\phi^{m}_{r} \\right)} \\sin{\\left(\\psi^{m}_{r} \\right)} \\sin{\\left(\\theta^{m}_{r} \\right)} - \\cos{\\left(\\phi^{m}_{r} \\right)} \\cos{\\left(\\psi^{m}_{r} \\right)}\\right) - \\left(z^{m}_{l} - z^{m}_{r}\\right) \\sin{\\left(\\phi^{m}_{r} \\right)} \\cos{\\left(\\theta^{m}_{r} \\right)} & \\left(x^{m}_{l} - x^{m}_{r}\\right) \\cos{\\left(\\phi^{m}_{r} \\right)} \\cos{\\left(\\psi^{m}_{r} \\right)} \\cos{\\left(\\theta^{m}_{r} \\right)} + \\left(y^{m}_{l} - y^{m}_{r}\\right) \\sin{\\left(\\psi^{m}_{r} \\right)} \\cos{\\left(\\phi^{m}_{r} \\right)} \\cos{\\left(\\theta^{m}_{r} \\right)} - \\left(z^{m}_{l} - z^{m}_{r}\\right) \\sin{\\left(\\theta^{m}_{r} \\right)} \\cos{\\left(\\phi^{m}_{r} \\right)} & \\left(x^{m}_{l} - x^{m}_{r}\\right) \\left(\\sin{\\left(\\phi^{m}_{r} \\right)} \\cos{\\left(\\psi^{m}_{r} \\right)} - \\sin{\\left(\\psi^{m}_{r} \\right)} \\sin{\\left(\\theta^{m}_{r} \\right)} \\cos{\\left(\\phi^{m}_{r} \\right)}\\right) + \\left(y^{m}_{l} - y^{m}_{r}\\right) \\left(\\sin{\\left(\\phi^{m}_{r} \\right)} \\sin{\\left(\\psi^{m}_{r} \\right)} + \\sin{\\left(\\theta^{m}_{r} \\right)} \\cos{\\left(\\phi^{m}_{r} \\right)} \\cos{\\left(\\psi^{m}_{r} \\right)}\\right) & \\sin{\\left(\\phi^{m}_{r} \\right)} \\sin{\\left(\\psi^{m}_{r} \\right)} + \\sin{\\left(\\theta^{m}_{r} \\right)} \\cos{\\left(\\phi^{m}_{r} \\right)} \\cos{\\left(\\psi^{m}_{r} \\right)} & - \\sin{\\left(\\phi^{m}_{r} \\right)} \\cos{\\left(\\psi^{m}_{r} \\right)} + \\sin{\\left(\\psi^{m}_{r} \\right)} \\sin{\\left(\\theta^{m}_{r} \\right)} \\cos{\\left(\\phi^{m}_{r} \\right)} & \\cos{\\left(\\phi^{m}_{r} \\right)} \\cos{\\left(\\theta^{m}_{r} \\right)} & 0 & 0 & 0\\\\0 & 0 & 0 & -1 & 0 & 0 & 0 & 0 & 0 & 1 & 0 & 0\\\\0 & 0 & 0 & 0 & -1 & 0 & 0 & 0 & 0 & 0 & 1 & 0\\\\0 & 0 & 0 & 0 & 0 & -1 & 0 & 0 & 0 & 0 & 0 & 1\\end{array}\\right]$"
      ],
      "text/plain": [
       "⎡                   -cos(ψ_r__m)⋅cos(θ_r__m)                                        -sin(ψ_r__m)⋅cos(θ_r__m)                           sin(θ_r__m)                                                                                                                  0                                                                                                                            -(x_l__m - x_r__m)⋅sin(θ_r__m)⋅cos(ψ_r__m) - (y_l__m - y_r__m)⋅sin(ψ_r__m)⋅sin(θ_r__m) - (z_l__m - z_r__m)⋅cos(θ_r__m)                                                            -(x_l__m - x_r__m)⋅sin(ψ_r__m)⋅cos(θ_r__m) + (y_l__m - y_r__m)⋅cos(ψ_r__m)⋅cos(θ_r__m)                                                             cos(ψ_r__m)⋅cos(θ_r__m)                                        sin(ψ_r__m)⋅cos(θ_r__m)                           -sin(θ_r__m)        0  0  0⎤\n",
       "⎢                                                                                                                                                                                                                                                                                                                                                                                                                                                                                                                                                                                                                                                                                                                                                                                                                                                                                 ⎥\n",
       "⎢-sin(φ_r__m)⋅sin(θ_r__m)⋅cos(ψ_r__m) + sin(ψ_r__m)⋅cos(φ_r__m)  -sin(φ_r__m)⋅sin(ψ_r__m)⋅sin(θ_r__m) - cos(φ_r__m)⋅cos(ψ_r__m)  -sin(φ_r__m)⋅cos(θ_r__m)  (x_l__m - x_r__m)⋅(sin(φ_r__m)⋅sin(ψ_r__m) + sin(θ_r__m)⋅cos(φ_r__m)⋅cos(ψ_r__m)) + (y_l__m - y_r__m)⋅(-sin(φ_r__m)⋅cos(ψ_r__m) + sin(ψ_r__m)⋅sin(θ_r__m)⋅cos(φ_r__m)) + (z_l__m - z_r__m)⋅cos(φ_r__m)⋅cos(θ_r__m)   (x_l__m - x_r__m)⋅sin(φ_r__m)⋅cos(ψ_r__m)⋅cos(θ_r__m) + (y_l__m - y_r__m)⋅sin(φ_r__m)⋅sin(ψ_r__m)⋅cos(θ_r__m) - (z_l__m - z_r__m)⋅sin(φ_r__m)⋅sin(θ_r__m)  (x_l__m - x_r__m)⋅(-sin(φ_r__m)⋅sin(ψ_r__m)⋅sin(θ_r__m) - cos(φ_r__m)⋅cos(ψ_r__m)) + (y_l__m - y_r__m)⋅(sin(φ_r__m)⋅sin(θ_r__m)⋅cos(ψ_r__m) - sin(ψ_r__m)⋅cos(φ_r__m))  sin(φ_r__m)⋅sin(θ_r__m)⋅cos(ψ_r__m) - sin(ψ_r__m)⋅cos(φ_r__m)  sin(φ_r__m)⋅sin(ψ_r__m)⋅sin(θ_r__m) + cos(φ_r__m)⋅cos(ψ_r__m)   sin(φ_r__m)⋅cos(θ_r__m)  0  0  0⎥\n",
       "⎢                                                                                                                                                                                                                                                                                                                                                                                                                                                                                                                                                                                                                                                                                                                                                                                                                                                                                 ⎥\n",
       "⎢-sin(φ_r__m)⋅sin(ψ_r__m) - sin(θ_r__m)⋅cos(φ_r__m)⋅cos(ψ_r__m)  sin(φ_r__m)⋅cos(ψ_r__m) - sin(ψ_r__m)⋅sin(θ_r__m)⋅cos(φ_r__m)   -cos(φ_r__m)⋅cos(θ_r__m)  (x_l__m - x_r__m)⋅(-sin(φ_r__m)⋅sin(θ_r__m)⋅cos(ψ_r__m) + sin(ψ_r__m)⋅cos(φ_r__m)) + (y_l__m - y_r__m)⋅(-sin(φ_r__m)⋅sin(ψ_r__m)⋅sin(θ_r__m) - cos(φ_r__m)⋅cos(ψ_r__m)) - (z_l__m - z_r__m)⋅sin(φ_r__m)⋅cos(θ_r__m)  (x_l__m - x_r__m)⋅cos(φ_r__m)⋅cos(ψ_r__m)⋅cos(θ_r__m) + (y_l__m - y_r__m)⋅sin(ψ_r__m)⋅cos(φ_r__m)⋅cos(θ_r__m) - (z_l__m - z_r__m)⋅sin(θ_r__m)⋅cos(φ_r__m)  (x_l__m - x_r__m)⋅(sin(φ_r__m)⋅cos(ψ_r__m) - sin(ψ_r__m)⋅sin(θ_r__m)⋅cos(φ_r__m)) + (y_l__m - y_r__m)⋅(sin(φ_r__m)⋅sin(ψ_r__m) + sin(θ_r__m)⋅cos(φ_r__m)⋅cos(ψ_r__m))   sin(φ_r__m)⋅sin(ψ_r__m) + sin(θ_r__m)⋅cos(φ_r__m)⋅cos(ψ_r__m)  -sin(φ_r__m)⋅cos(ψ_r__m) + sin(ψ_r__m)⋅sin(θ_r__m)⋅cos(φ_r__m)  cos(φ_r__m)⋅cos(θ_r__m)  0  0  0⎥\n",
       "⎢                                                                                                                                                                                                                                                                                                                                                                                                                                                                                                                                                                                                                                                                                                                                                                                                                                                                                 ⎥\n",
       "⎢                              0                                                               0                                            0                                                                                                                      -1                                                                                                                                                                                       0                                                                                                                                                                0                                                                                                                   0                                                              0                                            0             1  0  0⎥\n",
       "⎢                                                                                                                                                                                                                                                                                                                                                                                                                                                                                                                                                                                                                                                                                                                                                                                                                                                                                 ⎥\n",
       "⎢                              0                                                               0                                            0                                                                                                                       0                                                                                                                                                                                      -1                                                                                                                                                                0                                                                                                                   0                                                              0                                            0             0  1  0⎥\n",
       "⎢                                                                                                                                                                                                                                                                                                                                                                                                                                                                                                                                                                                                                                                                                                                                                                                                                                                                                 ⎥\n",
       "⎣                              0                                                               0                                            0                                                                                                                       0                                                                                                                                                                                       0                                                                                                                                                                -1                                                                                                                  0                                                              0                                            0             0  0  1⎦"
      ]
     },
     "execution_count": 18,
     "metadata": {},
     "output_type": "execute_result"
    }
   ],
   "source": [
    "variables = sp.Matrix([\n",
    "    m_x_r, m_y_r, m_z_r, m_phi_r, m_theta_r, m_psi_r, \n",
    "    m_x_l, m_y_l, m_z_l, m_phi_l, m_theta_l, m_psi_l\n",
    "])\n",
    "# Compute the Jacobian\n",
    "jacobian = function.jacobian(variables)\n",
    "jacobian"
   ]
  },
  {
   "cell_type": "code",
   "execution_count": 19,
   "metadata": {},
   "outputs": [
    {
     "name": "stdout",
     "output_type": "stream",
     "text": [
      "(3, 9)\n"
     ]
    },
    {
     "data": {
      "text/latex": [
       "$\\displaystyle \\left[\\begin{matrix}- \\cos{\\left(\\psi^{m}_{r} \\right)} \\cos{\\left(\\theta^{m}_{r} \\right)} & - \\sin{\\left(\\psi^{m}_{r} \\right)} \\cos{\\left(\\theta^{m}_{r} \\right)} & \\sin{\\left(\\theta^{m}_{r} \\right)} & 0 & - \\left(x^{m}_{l} - x^{m}_{r}\\right) \\sin{\\left(\\theta^{m}_{r} \\right)} \\cos{\\left(\\psi^{m}_{r} \\right)} - \\left(y^{m}_{l} - y^{m}_{r}\\right) \\sin{\\left(\\psi^{m}_{r} \\right)} \\sin{\\left(\\theta^{m}_{r} \\right)} - \\left(z^{m}_{l} - z^{m}_{r}\\right) \\cos{\\left(\\theta^{m}_{r} \\right)} & - \\left(x^{m}_{l} - x^{m}_{r}\\right) \\sin{\\left(\\psi^{m}_{r} \\right)} \\cos{\\left(\\theta^{m}_{r} \\right)} + \\left(y^{m}_{l} - y^{m}_{r}\\right) \\cos{\\left(\\psi^{m}_{r} \\right)} \\cos{\\left(\\theta^{m}_{r} \\right)} & \\cos{\\left(\\psi^{m}_{r} \\right)} \\cos{\\left(\\theta^{m}_{r} \\right)} & \\sin{\\left(\\psi^{m}_{r} \\right)} \\cos{\\left(\\theta^{m}_{r} \\right)} & - \\sin{\\left(\\theta^{m}_{r} \\right)}\\\\- \\sin{\\left(\\phi^{m}_{r} \\right)} \\sin{\\left(\\theta^{m}_{r} \\right)} \\cos{\\left(\\psi^{m}_{r} \\right)} + \\sin{\\left(\\psi^{m}_{r} \\right)} \\cos{\\left(\\phi^{m}_{r} \\right)} & - \\sin{\\left(\\phi^{m}_{r} \\right)} \\sin{\\left(\\psi^{m}_{r} \\right)} \\sin{\\left(\\theta^{m}_{r} \\right)} - \\cos{\\left(\\phi^{m}_{r} \\right)} \\cos{\\left(\\psi^{m}_{r} \\right)} & - \\sin{\\left(\\phi^{m}_{r} \\right)} \\cos{\\left(\\theta^{m}_{r} \\right)} & \\left(x^{m}_{l} - x^{m}_{r}\\right) \\left(\\sin{\\left(\\phi^{m}_{r} \\right)} \\sin{\\left(\\psi^{m}_{r} \\right)} + \\sin{\\left(\\theta^{m}_{r} \\right)} \\cos{\\left(\\phi^{m}_{r} \\right)} \\cos{\\left(\\psi^{m}_{r} \\right)}\\right) + \\left(y^{m}_{l} - y^{m}_{r}\\right) \\left(- \\sin{\\left(\\phi^{m}_{r} \\right)} \\cos{\\left(\\psi^{m}_{r} \\right)} + \\sin{\\left(\\psi^{m}_{r} \\right)} \\sin{\\left(\\theta^{m}_{r} \\right)} \\cos{\\left(\\phi^{m}_{r} \\right)}\\right) + \\left(z^{m}_{l} - z^{m}_{r}\\right) \\cos{\\left(\\phi^{m}_{r} \\right)} \\cos{\\left(\\theta^{m}_{r} \\right)} & \\left(x^{m}_{l} - x^{m}_{r}\\right) \\sin{\\left(\\phi^{m}_{r} \\right)} \\cos{\\left(\\psi^{m}_{r} \\right)} \\cos{\\left(\\theta^{m}_{r} \\right)} + \\left(y^{m}_{l} - y^{m}_{r}\\right) \\sin{\\left(\\phi^{m}_{r} \\right)} \\sin{\\left(\\psi^{m}_{r} \\right)} \\cos{\\left(\\theta^{m}_{r} \\right)} - \\left(z^{m}_{l} - z^{m}_{r}\\right) \\sin{\\left(\\phi^{m}_{r} \\right)} \\sin{\\left(\\theta^{m}_{r} \\right)} & \\left(x^{m}_{l} - x^{m}_{r}\\right) \\left(- \\sin{\\left(\\phi^{m}_{r} \\right)} \\sin{\\left(\\psi^{m}_{r} \\right)} \\sin{\\left(\\theta^{m}_{r} \\right)} - \\cos{\\left(\\phi^{m}_{r} \\right)} \\cos{\\left(\\psi^{m}_{r} \\right)}\\right) + \\left(y^{m}_{l} - y^{m}_{r}\\right) \\left(\\sin{\\left(\\phi^{m}_{r} \\right)} \\sin{\\left(\\theta^{m}_{r} \\right)} \\cos{\\left(\\psi^{m}_{r} \\right)} - \\sin{\\left(\\psi^{m}_{r} \\right)} \\cos{\\left(\\phi^{m}_{r} \\right)}\\right) & \\sin{\\left(\\phi^{m}_{r} \\right)} \\sin{\\left(\\theta^{m}_{r} \\right)} \\cos{\\left(\\psi^{m}_{r} \\right)} - \\sin{\\left(\\psi^{m}_{r} \\right)} \\cos{\\left(\\phi^{m}_{r} \\right)} & \\sin{\\left(\\phi^{m}_{r} \\right)} \\sin{\\left(\\psi^{m}_{r} \\right)} \\sin{\\left(\\theta^{m}_{r} \\right)} + \\cos{\\left(\\phi^{m}_{r} \\right)} \\cos{\\left(\\psi^{m}_{r} \\right)} & \\sin{\\left(\\phi^{m}_{r} \\right)} \\cos{\\left(\\theta^{m}_{r} \\right)}\\\\- \\sin{\\left(\\phi^{m}_{r} \\right)} \\sin{\\left(\\psi^{m}_{r} \\right)} - \\sin{\\left(\\theta^{m}_{r} \\right)} \\cos{\\left(\\phi^{m}_{r} \\right)} \\cos{\\left(\\psi^{m}_{r} \\right)} & \\sin{\\left(\\phi^{m}_{r} \\right)} \\cos{\\left(\\psi^{m}_{r} \\right)} - \\sin{\\left(\\psi^{m}_{r} \\right)} \\sin{\\left(\\theta^{m}_{r} \\right)} \\cos{\\left(\\phi^{m}_{r} \\right)} & - \\cos{\\left(\\phi^{m}_{r} \\right)} \\cos{\\left(\\theta^{m}_{r} \\right)} & \\left(x^{m}_{l} - x^{m}_{r}\\right) \\left(- \\sin{\\left(\\phi^{m}_{r} \\right)} \\sin{\\left(\\theta^{m}_{r} \\right)} \\cos{\\left(\\psi^{m}_{r} \\right)} + \\sin{\\left(\\psi^{m}_{r} \\right)} \\cos{\\left(\\phi^{m}_{r} \\right)}\\right) + \\left(y^{m}_{l} - y^{m}_{r}\\right) \\left(- \\sin{\\left(\\phi^{m}_{r} \\right)} \\sin{\\left(\\psi^{m}_{r} \\right)} \\sin{\\left(\\theta^{m}_{r} \\right)} - \\cos{\\left(\\phi^{m}_{r} \\right)} \\cos{\\left(\\psi^{m}_{r} \\right)}\\right) - \\left(z^{m}_{l} - z^{m}_{r}\\right) \\sin{\\left(\\phi^{m}_{r} \\right)} \\cos{\\left(\\theta^{m}_{r} \\right)} & \\left(x^{m}_{l} - x^{m}_{r}\\right) \\cos{\\left(\\phi^{m}_{r} \\right)} \\cos{\\left(\\psi^{m}_{r} \\right)} \\cos{\\left(\\theta^{m}_{r} \\right)} + \\left(y^{m}_{l} - y^{m}_{r}\\right) \\sin{\\left(\\psi^{m}_{r} \\right)} \\cos{\\left(\\phi^{m}_{r} \\right)} \\cos{\\left(\\theta^{m}_{r} \\right)} - \\left(z^{m}_{l} - z^{m}_{r}\\right) \\sin{\\left(\\theta^{m}_{r} \\right)} \\cos{\\left(\\phi^{m}_{r} \\right)} & \\left(x^{m}_{l} - x^{m}_{r}\\right) \\left(\\sin{\\left(\\phi^{m}_{r} \\right)} \\cos{\\left(\\psi^{m}_{r} \\right)} - \\sin{\\left(\\psi^{m}_{r} \\right)} \\sin{\\left(\\theta^{m}_{r} \\right)} \\cos{\\left(\\phi^{m}_{r} \\right)}\\right) + \\left(y^{m}_{l} - y^{m}_{r}\\right) \\left(\\sin{\\left(\\phi^{m}_{r} \\right)} \\sin{\\left(\\psi^{m}_{r} \\right)} + \\sin{\\left(\\theta^{m}_{r} \\right)} \\cos{\\left(\\phi^{m}_{r} \\right)} \\cos{\\left(\\psi^{m}_{r} \\right)}\\right) & \\sin{\\left(\\phi^{m}_{r} \\right)} \\sin{\\left(\\psi^{m}_{r} \\right)} + \\sin{\\left(\\theta^{m}_{r} \\right)} \\cos{\\left(\\phi^{m}_{r} \\right)} \\cos{\\left(\\psi^{m}_{r} \\right)} & - \\sin{\\left(\\phi^{m}_{r} \\right)} \\cos{\\left(\\psi^{m}_{r} \\right)} + \\sin{\\left(\\psi^{m}_{r} \\right)} \\sin{\\left(\\theta^{m}_{r} \\right)} \\cos{\\left(\\phi^{m}_{r} \\right)} & \\cos{\\left(\\phi^{m}_{r} \\right)} \\cos{\\left(\\theta^{m}_{r} \\right)}\\end{matrix}\\right]$"
      ],
      "text/plain": [
       "⎡                   -cos(ψ_r__m)⋅cos(θ_r__m)                                        -sin(ψ_r__m)⋅cos(θ_r__m)                           sin(θ_r__m)                                                                                                                  0                                                                                                                            -(x_l__m - x_r__m)⋅sin(θ_r__m)⋅cos(ψ_r__m) - (y_l__m - y_r__m)⋅sin(ψ_r__m)⋅sin(θ_r__m) - (z_l__m - z_r__m)⋅cos(θ_r__m)                                                            -(x_l__m - x_r__m)⋅sin(ψ_r__m)⋅cos(θ_r__m) + (y_l__m - y_r__m)⋅cos(ψ_r__m)⋅cos(θ_r__m)                                                             cos(ψ_r__m)⋅cos(θ_r__m)                                        sin(ψ_r__m)⋅cos(θ_r__m)                           -sin(θ_r__m)      ⎤\n",
       "⎢                                                                                                                                                                                                                                                                                                                                                                                                                                                                                                                                                                                                                                                                                                                                                                                                                                                                        ⎥\n",
       "⎢-sin(φ_r__m)⋅sin(θ_r__m)⋅cos(ψ_r__m) + sin(ψ_r__m)⋅cos(φ_r__m)  -sin(φ_r__m)⋅sin(ψ_r__m)⋅sin(θ_r__m) - cos(φ_r__m)⋅cos(ψ_r__m)  -sin(φ_r__m)⋅cos(θ_r__m)  (x_l__m - x_r__m)⋅(sin(φ_r__m)⋅sin(ψ_r__m) + sin(θ_r__m)⋅cos(φ_r__m)⋅cos(ψ_r__m)) + (y_l__m - y_r__m)⋅(-sin(φ_r__m)⋅cos(ψ_r__m) + sin(ψ_r__m)⋅sin(θ_r__m)⋅cos(φ_r__m)) + (z_l__m - z_r__m)⋅cos(φ_r__m)⋅cos(θ_r__m)   (x_l__m - x_r__m)⋅sin(φ_r__m)⋅cos(ψ_r__m)⋅cos(θ_r__m) + (y_l__m - y_r__m)⋅sin(φ_r__m)⋅sin(ψ_r__m)⋅cos(θ_r__m) - (z_l__m - z_r__m)⋅sin(φ_r__m)⋅sin(θ_r__m)  (x_l__m - x_r__m)⋅(-sin(φ_r__m)⋅sin(ψ_r__m)⋅sin(θ_r__m) - cos(φ_r__m)⋅cos(ψ_r__m)) + (y_l__m - y_r__m)⋅(sin(φ_r__m)⋅sin(θ_r__m)⋅cos(ψ_r__m) - sin(ψ_r__m)⋅cos(φ_r__m))  sin(φ_r__m)⋅sin(θ_r__m)⋅cos(ψ_r__m) - sin(ψ_r__m)⋅cos(φ_r__m)  sin(φ_r__m)⋅sin(ψ_r__m)⋅sin(θ_r__m) + cos(φ_r__m)⋅cos(ψ_r__m)   sin(φ_r__m)⋅cos(θ_r__m)⎥\n",
       "⎢                                                                                                                                                                                                                                                                                                                                                                                                                                                                                                                                                                                                                                                                                                                                                                                                                                                                        ⎥\n",
       "⎣-sin(φ_r__m)⋅sin(ψ_r__m) - sin(θ_r__m)⋅cos(φ_r__m)⋅cos(ψ_r__m)  sin(φ_r__m)⋅cos(ψ_r__m) - sin(ψ_r__m)⋅sin(θ_r__m)⋅cos(φ_r__m)   -cos(φ_r__m)⋅cos(θ_r__m)  (x_l__m - x_r__m)⋅(-sin(φ_r__m)⋅sin(θ_r__m)⋅cos(ψ_r__m) + sin(ψ_r__m)⋅cos(φ_r__m)) + (y_l__m - y_r__m)⋅(-sin(φ_r__m)⋅sin(ψ_r__m)⋅sin(θ_r__m) - cos(φ_r__m)⋅cos(ψ_r__m)) - (z_l__m - z_r__m)⋅sin(φ_r__m)⋅cos(θ_r__m)  (x_l__m - x_r__m)⋅cos(φ_r__m)⋅cos(ψ_r__m)⋅cos(θ_r__m) + (y_l__m - y_r__m)⋅sin(ψ_r__m)⋅cos(φ_r__m)⋅cos(θ_r__m) - (z_l__m - z_r__m)⋅sin(θ_r__m)⋅cos(φ_r__m)  (x_l__m - x_r__m)⋅(sin(φ_r__m)⋅cos(ψ_r__m) - sin(ψ_r__m)⋅sin(θ_r__m)⋅cos(φ_r__m)) + (y_l__m - y_r__m)⋅(sin(φ_r__m)⋅sin(ψ_r__m) + sin(θ_r__m)⋅cos(φ_r__m)⋅cos(ψ_r__m))   sin(φ_r__m)⋅sin(ψ_r__m) + sin(θ_r__m)⋅cos(φ_r__m)⋅cos(ψ_r__m)  -sin(φ_r__m)⋅cos(ψ_r__m) + sin(ψ_r__m)⋅sin(θ_r__m)⋅cos(φ_r__m)  cos(φ_r__m)⋅cos(θ_r__m)⎦"
      ]
     },
     "execution_count": 19,
     "metadata": {},
     "output_type": "execute_result"
    }
   ],
   "source": [
    "# The following code only uses the x, y, z coordinates due to instabilities\n",
    "# in the ArUco marker detection\n",
    "\n",
    "m_X_r = sp.Matrix([m_x_r, m_y_r, m_z_r])\n",
    "m_X_l = sp.Matrix([m_x_l, m_y_l, m_z_l])\n",
    "\n",
    "sub =  m_X_l - m_X_r\n",
    "function = r_R_m @ sub\n",
    "\n",
    "variables = sp.Matrix([\n",
    "    m_x_r, m_y_r, m_z_r, m_phi_r, m_theta_r, m_psi_r, \n",
    "    m_x_l, m_y_l, m_z_l\n",
    "])\n",
    "# Compute the Jacobian\n",
    "jacobian = function.jacobian(variables)\n",
    "print(jacobian.shape)\n",
    "jacobian"
   ]
  },
  {
   "cell_type": "code",
   "execution_count": null,
   "metadata": {},
   "outputs": [],
   "source": []
  }
 ],
 "metadata": {
  "kernelspec": {
   "display_name": "Python 3",
   "language": "python",
   "name": "python3"
  },
  "language_info": {
   "codemirror_mode": {
    "name": "ipython",
    "version": 3
   },
   "file_extension": ".py",
   "mimetype": "text/x-python",
   "name": "python",
   "nbconvert_exporter": "python",
   "pygments_lexer": "ipython3",
   "version": "3.10.12"
  }
 },
 "nbformat": 4,
 "nbformat_minor": 2
}
